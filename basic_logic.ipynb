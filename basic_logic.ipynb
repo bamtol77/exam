{
 "cells": [
  {
   "cell_type": "markdown",
   "id": "381595ee",
   "metadata": {},
   "source": [
    "#List [ ] ; 대괄호를 이용해서 데이터를 넣는다\n",
    "sub1.append(‘영어’) ; 리스트에 추가하기(새로운 인덱스 추가)\n",
    "sub1.insert(0’, 한국사’) ; 인덱스 삽입 , 삽입하고자하는 위치를 쓰고 ‘명칭’ \n",
    "sub1. remove(‘수학’) ; 인데스 삭제"
   ]
  },
  {
   "cell_type": "markdown",
   "id": "ca77677f",
   "metadata": {},
   "source": [
    "#Tuple ( ) ; 소괄호를 사용해서 데이터를 만든다\n",
    ";자료구조 내 순서가 존재\n",
    ";한 번 선언된 튜풀은 변경이 불가능\n",
    "Packing / Unpacking\n",
    "t2 = 100, 20, 3000, 40 ; tuple를 만든다\n",
    "a, b, c, d = t2 ; tuple내 각 값을 나누어 저장가능 (변수를) 지정한다\n"
   ]
  },
  {
   "cell_type": "markdown",
   "id": "ade03f61",
   "metadata": {},
   "source": [
    "#Set { } ; 중괄호를 사용하여 데이터를 만든다\n",
    ";집합 (밴다아어그램을 연상)\n",
    ";순서는 없고, 중복된 수 없음(중복을 허용하지 않음)\n",
    ";데이터 자료구조내의 순서가 존재하지 않음\n",
    ";s1.undate([100]) ; 값을 추가할 수 있음\n",
    ";s1.remove(100) ; 값을 삭제할 수 있음\n",
    ";집합 연산도 가능\n",
    "s1 = {1,2,3,4,5,6,7}\n",
    "s2 = {5,6,7,8,9}\n",
    "s1 & s2 ;교집합 ; intersection\n",
    "s1 | s2 ; 합집합 ; union\n",
    "s1 - s2 ; 차집합 ; difference\n",
    "s1 ^ s2 ; 대상차집합 ; 공통원소 이외의 것을 출력 ; "
   ]
  },
  {
   "cell_type": "markdown",
   "id": "89a9c685",
   "metadata": {},
   "source": [
    "#Dictionary\n",
    ";Key : value\n",
    ";쌍으로 이루어진 형태 \n",
    "dic1 = {“점수”:100, “이름” : “홍길동”}\n",
    ";get\n",
    "dic.get(‘이름’)  =>’홍길동’ 출력\n",
    ";모든 키값 확인\n",
    "dic1.keys()\n",
    "dic1.values()"
   ]
  },
  {
   "cell_type": "markdown",
   "id": "3f9e4b26",
   "metadata": {},
   "source": [
    "#조건문\n",
    ";특정 상황에 대한 판단 또는 조건에 대한 실행여부를 결정\n",
    "; if\n",
    "; 들여쓰기가 필요\n",
    "; if 뒤에 : 이있고 이 문법 안의 행위는 뛰어쓰기를 한다\n"
   ]
  },
  {
   "cell_type": "code",
   "execution_count": null,
   "id": "25d71aad",
   "metadata": {},
   "outputs": [
    {
     "name": "stdout",
     "output_type": "stream",
     "text": [
      "a느ㄴ 50보다 작다\n"
     ]
    }
   ],
   "source": [
    "a = 10\n",
    "if a > 50:\n",
    "\tprint('a는 50보다 크다')\n",
    "else:\n",
    "\tprint('a는 50보다 작다')"
   ]
  },
  {
   "cell_type": "code",
   "execution_count": 6,
   "id": "8d64a5c1",
   "metadata": {},
   "outputs": [
    {
     "name": "stdout",
     "output_type": "stream",
     "text": [
      "F\n"
     ]
    }
   ],
   "source": [
    "#다중조건문\n",
    "score = 65\n",
    "if score >= 90:\n",
    "    print('A')\n",
    "elif score >= 80:\n",
    "    print('B')\n",
    "elif score >= 70:\n",
    "    print('C')\n",
    "else:\n",
    "    print('F')"
   ]
  },
  {
   "cell_type": "markdown",
   "id": "6b0153f3",
   "metadata": {},
   "source": [
    "#input ; 입력받아 변수선언 ; 문자형태로 받는다\n",
    "\t;숫자형태로 받고 싶은 경우\n",
    "\tint(input(“점수를 입력해 주세요”)) ; 이렇게 하면 숫자(int)형태로 입력을 받는다."
   ]
  },
  {
   "cell_type": "markdown",
   "id": "32ec6ccb",
   "metadata": {},
   "source": [
    "#반복문\n",
    ";특정 수식이나 기능을 반복 수행할 때 사용\n",
    "\n",
    ";while ; 반복횟수가 정해지지 않음\n",
    "\t;break 를 만나면 끝냄\n",
    ";for ; 특정범위나 특정 횟 수 만큼 반복\n",
    ";list 형태로 넣으면"
   ]
  },
  {
   "cell_type": "code",
   "execution_count": 7,
   "id": "3e4208c9",
   "metadata": {},
   "outputs": [
    {
     "name": "stdout",
     "output_type": "stream",
     "text": [
      "100\n",
      "200\n",
      "300\n",
      "400\n"
     ]
    }
   ],
   "source": [
    "for i in [100,200,300,400] :\n",
    "\tprint(i)"
   ]
  },
  {
   "cell_type": "code",
   "execution_count": 2,
   "id": "604aa131",
   "metadata": {},
   "outputs": [],
   "source": [
    "list_score = [] # 성적들을 저장할 빈 리스트를 만듭니다.\n",
    "\n"
   ]
  },
  {
   "cell_type": "code",
   "execution_count": 3,
   "id": "1fd99a13",
   "metadata": {},
   "outputs": [
    {
     "name": "stdout",
     "output_type": "stream",
     "text": [
      "B\n"
     ]
    }
   ],
   "source": [
    "data3 = int(input('성적을 입력하시오 : '))\n",
    "list_score.append(data3)\n",
    "\n",
    "if data3 >= 90:\n",
    "    print('A')\n",
    "elif data3 >= 80:\n",
    "    print('B')\n",
    "elif data3 >= 70:\n",
    "    print('C')\n",
    "else:\n",
    "    print('D')\n",
    "    "
   ]
  },
  {
   "cell_type": "markdown",
   "id": "eaedfa18",
   "metadata": {},
   "source": [
    "#학점도 같이 저장하고 싶다\n",
    "list_score = []\n",
    "list_score2 = []"
   ]
  },
  {
   "cell_type": "code",
   "execution_count": 9,
   "id": "55a2d7dd",
   "metadata": {},
   "outputs": [],
   "source": [
    "#학점도 같이 저장하고 싶다\n",
    "list_score = []\n",
    "list_score2 = []"
   ]
  },
  {
   "cell_type": "code",
   "execution_count": 14,
   "id": "26044c72",
   "metadata": {},
   "outputs": [
    {
     "name": "stdout",
     "output_type": "stream",
     "text": [
      "A\n",
      "[80, 40, 90, 90, 100]\n",
      "['B', 'D', 'A', 'A', 'A']\n"
     ]
    }
   ],
   "source": [
    "data3 = int(input('성적을 입력하시오 : '))\n",
    "list_score.append(data3)\n",
    "\n",
    "if data3 >= 90:\n",
    "\tprint('A')\n",
    "\tlist_score2.append('A')\n",
    "elif data3 >= 80:\n",
    "\tprint('B')\n",
    "\tlist_score2.append('B')\n",
    "elif data3 >= 70:\n",
    "\tprint('C')\n",
    "\tlist_score2.append('C')\n",
    "else :\n",
    "\tprint('D')\n",
    "\tlist_score2.append('D')\n",
    "print(list_score)\n",
    "print(list_score2)\n"
   ]
  },
  {
   "cell_type": "code",
   "execution_count": 16,
   "id": "3522334b",
   "metadata": {},
   "outputs": [
    {
     "name": "stdout",
     "output_type": "stream",
     "text": [
      "55\n"
     ]
    }
   ],
   "source": [
    "#for문을 이용한 통계\n",
    "sum_score = 0\n",
    "for i in range(1,11):\n",
    "\tsum_score = sum_score + i\n",
    "print(sum_score)"
   ]
  },
  {
   "cell_type": "code",
   "execution_count": 17,
   "id": "da5cd50c",
   "metadata": {},
   "outputs": [
    {
     "name": "stdout",
     "output_type": "stream",
     "text": [
      "160\n"
     ]
    }
   ],
   "source": [
    "sum_score2 = 0\n",
    "for j in [10,50,100]:\n",
    "\tsum_score2 = sum_score2 + j\n",
    "print(sum_score2)"
   ]
  },
  {
   "cell_type": "code",
   "execution_count": 18,
   "id": "53eb1c59",
   "metadata": {},
   "outputs": [
    {
     "name": "stdout",
     "output_type": "stream",
     "text": [
      "280\n",
      "46.666666666666664\n"
     ]
    }
   ],
   "source": [
    "sum_score3 = 0\n",
    "list1 = [10,20,30,50,80,90]\n",
    "for k in list1:\n",
    "\tsum_score3 = sum_score3 + k\n",
    "print(sum_score3)\n",
    "print(sum_score3/len(list1))"
   ]
  },
  {
   "cell_type": "markdown",
   "id": "a8ccfddd",
   "metadata": {},
   "source": [
    "#함수\n",
    "- 입력값 / 출력값, input - output\n",
    "- 특정 동작을 수행하는 구문을 하나의 기능으로 정의 \n",
    "- 한번 실행된 함수는 계속해서 사용할 수 있다."
   ]
  },
  {
   "cell_type": "code",
   "execution_count": 19,
   "id": "d1793e89",
   "metadata": {},
   "outputs": [],
   "source": [
    "def func1(x):\n",
    "\ty = x + 20\n",
    "\treturn y"
   ]
  },
  {
   "cell_type": "code",
   "execution_count": 20,
   "id": "b09d0aab",
   "metadata": {},
   "outputs": [
    {
     "data": {
      "text/plain": [
       "120"
      ]
     },
     "execution_count": 20,
     "metadata": {},
     "output_type": "execute_result"
    }
   ],
   "source": [
    "func1(100)"
   ]
  },
  {
   "cell_type": "code",
   "execution_count": 22,
   "id": "c7f27b80",
   "metadata": {},
   "outputs": [
    {
     "data": {
      "text/plain": [
       "58"
      ]
     },
     "execution_count": 22,
     "metadata": {},
     "output_type": "execute_result"
    }
   ],
   "source": [
    "def func2(data):   # parameter\n",
    "\toutput = data **3 +50\n",
    "\treturn output\n",
    "func2(2)"
   ]
  },
  {
   "cell_type": "code",
   "execution_count": 23,
   "id": "a5906f46",
   "metadata": {},
   "outputs": [],
   "source": [
    "def func3(x):\n",
    "\tif x>50:\t\t\n",
    "\t\treturn x+30\n",
    "\telse:\n",
    "\t\treturn x **5  #5제곱"
   ]
  },
  {
   "cell_type": "code",
   "execution_count": 24,
   "id": "82424b53",
   "metadata": {},
   "outputs": [
    {
     "data": {
      "text/plain": [
       "32"
      ]
     },
     "execution_count": 24,
     "metadata": {},
     "output_type": "execute_result"
    }
   ],
   "source": [
    "func3(2)"
   ]
  },
  {
   "cell_type": "code",
   "execution_count": 26,
   "id": "712c1d2d",
   "metadata": {},
   "outputs": [
    {
     "data": {
      "text/plain": [
       "130"
      ]
     },
     "execution_count": 26,
     "metadata": {},
     "output_type": "execute_result"
    }
   ],
   "source": [
    "func3(100)"
   ]
  },
  {
   "cell_type": "code",
   "execution_count": 30,
   "id": "f55fccb7",
   "metadata": {},
   "outputs": [
    {
     "data": {
      "text/plain": [
       "1640"
      ]
     },
     "execution_count": 30,
     "metadata": {},
     "output_type": "execute_result"
    }
   ],
   "source": [
    "def func1(x): \n",
    "\ty = x *20 + 40 **2\n",
    "\treturn y\n",
    "func1(2)\n",
    "\n"
   ]
  },
  {
   "cell_type": "code",
   "execution_count": 31,
   "id": "5ecd2e75",
   "metadata": {},
   "outputs": [],
   "source": [
    "num1 = func1(2)  #이 값을 변수로 선언 할 수 있다."
   ]
  },
  {
   "cell_type": "code",
   "execution_count": 32,
   "id": "0bf1ac9b",
   "metadata": {},
   "outputs": [
    {
     "data": {
      "text/plain": [
       "'Python'"
      ]
     },
     "execution_count": 32,
     "metadata": {},
     "output_type": "execute_result"
    }
   ],
   "source": [
    "#함수는 입력값이 없어도 사용할 수 있다.\n",
    "def func2():\n",
    "\treturn 'Python'\n",
    "func2()"
   ]
  },
  {
   "cell_type": "code",
   "execution_count": 33,
   "id": "9c523926",
   "metadata": {},
   "outputs": [
    {
     "name": "stdout",
     "output_type": "stream",
     "text": [
      "200\n"
     ]
    }
   ],
   "source": [
    "def func3(x):\t#출력값이 없이 (return)함수를 구성\n",
    "\tprint(x)\n",
    "func3(200)"
   ]
  },
  {
   "cell_type": "code",
   "execution_count": 34,
   "id": "cec685ad",
   "metadata": {},
   "outputs": [
    {
     "name": "stdout",
     "output_type": "stream",
     "text": [
      "300\n"
     ]
    }
   ],
   "source": [
    "num4 = func3(300)"
   ]
  },
  {
   "cell_type": "markdown",
   "id": "224003a7",
   "metadata": {},
   "source": [
    "#print 도 함수이기 때문에 ‘return’이라는 함수를 사용해서 값을 넣어 함수의 값을 사용한다\n",
    "#변수를 사용해서 값을 사용하거나 확인을 하고자 하는 경우 ‘retrun’을 사용해서 변수에 값을 입력하는 습관을 가져야 한다.\n",
    "#즉, 입력이 있으면 출력이 있어야 한다."
   ]
  },
  {
   "cell_type": "code",
   "execution_count": 35,
   "id": "555254d9",
   "metadata": {},
   "outputs": [],
   "source": [
    "def score_func1(x):\n",
    "\tif x >= 90:\n",
    "\t\treturn 'A'\n",
    "\telif x >=80:\n",
    "\t\treturn 'B'\n",
    "\telse:\n",
    "\t\treturn 'C'"
   ]
  },
  {
   "cell_type": "code",
   "execution_count": 36,
   "id": "91455c3a",
   "metadata": {},
   "outputs": [
    {
     "data": {
      "text/plain": [
       "'A'"
      ]
     },
     "execution_count": 36,
     "metadata": {},
     "output_type": "execute_result"
    }
   ],
   "source": [
    "num1 = input('성적을 입력하시오.  ') #기본적으로 문자형\n",
    "num2 =  float(input('성적을 입력하시오.  '))   \t#float 함수는 실수 형태로 값을 받는다.\n",
    "score_func1(num2)"
   ]
  },
  {
   "cell_type": "code",
   "execution_count": null,
   "id": "2eb1d8a4",
   "metadata": {},
   "outputs": [
    {
     "data": {
      "text/plain": [
       "'90'"
      ]
     },
     "execution_count": 39,
     "metadata": {},
     "output_type": "execute_result"
    }
   ],
   "source": [
    "def func2():\n",
    "\tx = input('값을 입력하시오')\n",
    "\treturn x\n",
    "\n",
    "\n",
    "\n"
   ]
  },
  {
   "cell_type": "code",
   "execution_count": 47,
   "id": "680e8528",
   "metadata": {},
   "outputs": [
    {
     "data": {
      "text/plain": [
       "'100'"
      ]
     },
     "execution_count": 47,
     "metadata": {},
     "output_type": "execute_result"
    }
   ],
   "source": [
    "func2()"
   ]
  },
  {
   "cell_type": "code",
   "execution_count": 54,
   "id": "eb39a486",
   "metadata": {},
   "outputs": [],
   "source": [
    "def func3():\n",
    "    x = float(input('테이터를 입력하시오. '))\n",
    "    if x >= 90:\n",
    "        return 'A'\n",
    "    elif x >= 80:\n",
    "        return 'B'\n",
    "    elif x >= 70:\n",
    "        return 'C'\n",
    "    else:\n",
    "        return 'D'\n",
    "    "
   ]
  },
  {
   "cell_type": "code",
   "execution_count": 58,
   "id": "e0640d89",
   "metadata": {},
   "outputs": [
    {
     "data": {
      "text/plain": [
       "'B'"
      ]
     },
     "execution_count": 58,
     "metadata": {},
     "output_type": "execute_result"
    }
   ],
   "source": [
    "func3()"
   ]
  },
  {
   "cell_type": "markdown",
   "id": "11b2ab34",
   "metadata": {},
   "source": [
    "# 실무데이터 불러와서 데이터 프레임 다루기\n",
    " "
   ]
  },
  {
   "cell_type": "code",
   "execution_count": null,
   "id": "724a7c3a",
   "metadata": {},
   "outputs": [],
   "source": []
  },
  {
   "cell_type": "markdown",
   "id": "814b30a1",
   "metadata": {},
   "source": []
  }
 ],
 "metadata": {
  "kernelspec": {
   "display_name": "Python 3",
   "language": "python",
   "name": "python3"
  },
  "language_info": {
   "codemirror_mode": {
    "name": "ipython",
    "version": 3
   },
   "file_extension": ".py",
   "mimetype": "text/x-python",
   "name": "python",
   "nbconvert_exporter": "python",
   "pygments_lexer": "ipython3",
   "version": "3.12.3"
  }
 },
 "nbformat": 4,
 "nbformat_minor": 5
}
